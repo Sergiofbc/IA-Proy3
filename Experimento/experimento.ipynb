{
 "cells": [
  {
   "cell_type": "code",
   "id": "initial_id",
   "metadata": {
    "collapsed": true,
    "ExecuteTime": {
     "end_time": "2025-04-22T13:46:36.056768Z",
     "start_time": "2025-04-22T13:46:36.053348Z"
    }
   },
   "source": "#Regresion Lineal",
   "outputs": [],
   "execution_count": 1
  },
  {
   "metadata": {
    "ExecuteTime": {
     "end_time": "2025-04-22T13:46:40.746210Z",
     "start_time": "2025-04-22T13:46:40.742054Z"
    }
   },
   "cell_type": "code",
   "source": "#Arboles de decision",
   "id": "10485522c2ea21bc",
   "outputs": [],
   "execution_count": 2
  },
  {
   "metadata": {},
   "cell_type": "code",
   "outputs": [],
   "execution_count": null,
   "source": "#random forest",
   "id": "ba2826cada53d549"
  }
 ],
 "metadata": {
  "kernelspec": {
   "display_name": "Python 3",
   "language": "python",
   "name": "python3"
  },
  "language_info": {
   "codemirror_mode": {
    "name": "ipython",
    "version": 2
   },
   "file_extension": ".py",
   "mimetype": "text/x-python",
   "name": "python",
   "nbconvert_exporter": "python",
   "pygments_lexer": "ipython2",
   "version": "2.7.6"
  }
 },
 "nbformat": 4,
 "nbformat_minor": 5
}
